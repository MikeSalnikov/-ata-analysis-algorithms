{
  "cells": [
    {
      "cell_type": "markdown",
      "metadata": {
        "id": "view-in-github",
        "colab_type": "text"
      },
      "source": [
        "<a href=\"https://colab.research.google.com/github/MikeSalnikov/Data-analysis-algorithms/blob/main/HW6_web6.ipynb\" target=\"_parent\"><img src=\"https://colab.research.google.com/assets/colab-badge.svg\" alt=\"Open In Colab\"/></a>"
      ]
    },
    {
      "cell_type": "markdown",
      "metadata": {
        "id": "41AitfhKbsha"
      },
      "source": [
        "# Домашнее задание № 6"
      ]
    },
    {
      "cell_type": "markdown",
      "metadata": {
        "id": "--5O2DEhdsH9"
      },
      "source": [
        "Для реализованной в методичке модели градиентного бустинга построить зависимости ошибки от количества деревьев при разных значениях шага градиента на одном графике и для разной глубины деревьев на другом.\n",
        "Сделать выводы о зависимости ошибки от этих гиперпараметров (шаг градиента, максимальная глубина деревьев, количество деревьев).\n",
        "Подобрать оптимальные значения этих гиперпараметров (минимум ошибки на тесте при отсутствии переобучения)."
      ]
    },
    {
      "cell_type": "code",
      "execution_count": 1,
      "metadata": {
        "id": "Qk-74OFhbshx"
      },
      "outputs": [],
      "source": [
        "from sklearn import model_selection\n",
        "from sklearn.tree import DecisionTreeRegressor\n",
        "from sklearn.datasets import load_diabetes\n",
        "import matplotlib.pyplot as plt\n",
        "import numpy as np"
      ]
    },
    {
      "cell_type": "markdown",
      "metadata": {
        "id": "LYD1kLOibsh0"
      },
      "source": [
        "Использую один из \"игрушечных\" датасетов из той же библиотеки (информация о пациентах с диабетом): "
      ]
    },
    {
      "cell_type": "code",
      "execution_count": 2,
      "metadata": {
        "id": "leu8bBI7bsh6",
        "colab": {
          "base_uri": "https://localhost:8080/"
        },
        "outputId": "3047bcfd-bb04-40df-ea8d-f0569b156b21"
      },
      "outputs": [
        {
          "output_type": "execute_result",
          "data": {
            "text/plain": [
              "((442, 10), (442,))"
            ]
          },
          "metadata": {},
          "execution_count": 2
        }
      ],
      "source": [
        "X, y = load_diabetes(return_X_y=True)\n",
        "X.shape, y.shape"
      ]
    },
    {
      "cell_type": "markdown",
      "metadata": {
        "id": "cz_JhiIpbsh8"
      },
      "source": [
        "Разделяю выборку на обучающую и тестовую в соотношении 75/25: "
      ]
    },
    {
      "cell_type": "code",
      "execution_count": 3,
      "metadata": {
        "id": "ExZPR9FLbsh9"
      },
      "outputs": [],
      "source": [
        "X_train, X_test, y_train, y_test = model_selection.train_test_split(X, y, test_size=0.25)"
      ]
    },
    {
      "cell_type": "markdown",
      "metadata": {
        "id": "7xJCdggZbsh_"
      },
      "source": [
        "Напишу функцию, реализующую предсказание в градиентном бустинге: "
      ]
    },
    {
      "cell_type": "code",
      "execution_count": 4,
      "metadata": {
        "id": "wU_Rkc63bsiA"
      },
      "outputs": [],
      "source": [
        "def gb_predict(X, trees_list, eta):\n",
        "    # Реализуемый алгоритм градиентного бустинга будет инициализироваться нулевыми значениями,\n",
        "    # поэтому все деревья из списка trees_list уже являются дополнительными и при предсказании\n",
        "    # прибавляются с шагом eta\n",
        "    \n",
        "#     predictions = np.zeros(X.shape[0])\n",
        "#     for i, x in enumerate(X):\n",
        "#         prediction = 0\n",
        "#         for alg in trees_list:\n",
        "#             prediction += eta * alg.predict([x])[0]\n",
        "#         predictions[i] = prediction\n",
        "        \n",
        "    predictions = np.array(\n",
        "        [sum([eta * alg.predict([x])[0] for alg in trees_list]) for x in X]\n",
        "    )\n",
        "\n",
        "    return predictions"
      ]
    },
    {
      "cell_type": "markdown",
      "metadata": {
        "id": "6gZvsyfSbsiD"
      },
      "source": [
        "В качестве функционала ошибки буду использовать среднеквадратичную ошибку. Реализую соответствующую функцию: "
      ]
    },
    {
      "cell_type": "code",
      "execution_count": 5,
      "metadata": {
        "id": "0xbjFIEKbsiE"
      },
      "outputs": [],
      "source": [
        "def mean_squared_error(y_real, prediction):\n",
        "    return (sum((y_real - prediction)**2)) / len(y_real)"
      ]
    },
    {
      "cell_type": "markdown",
      "metadata": {
        "id": "Qlr3KD6zbsiH"
      },
      "source": [
        "Использую $L_{2}$ loss $L(y, z) = (y - z)^{2},$ ее производная по $z$ примет вид $L'(y, z) = 2(z - y)$. Реализую ее также в виде функции (коэффициент 2 можно отбросить): "
      ]
    },
    {
      "cell_type": "code",
      "execution_count": 6,
      "metadata": {
        "id": "WRaZEd3ebsiI"
      },
      "outputs": [],
      "source": [
        "def residual(y, z):\n",
        "    return - (z - y)"
      ]
    },
    {
      "cell_type": "markdown",
      "metadata": {
        "id": "ut-7dBgVbsiK"
      },
      "source": [
        "Реализую функцию обучения градиентного бустинга: "
      ]
    },
    {
      "cell_type": "code",
      "execution_count": 7,
      "metadata": {
        "id": "HoIdAoPYbsiL"
      },
      "outputs": [],
      "source": [
        "def gb_fit(n_trees, max_depth, X_train, X_test, y_train, y_test, eta):\n",
        "    \n",
        "    # деревья буду записывать в список\n",
        "    trees = []\n",
        "    \n",
        "    # буду записывать ошибки на обучающей и тестовой выборке на каждой итерации в список\n",
        "    train_errors = []\n",
        "    test_errors = []\n",
        "    \n",
        "    for i in range(n_trees):\n",
        "        tree = DecisionTreeRegressor(max_depth=max_depth, random_state=42)\n",
        "\n",
        "        # первый алгоритм просто обучаю на выборке и добавляю в список\n",
        "        if len(trees) == 0:\n",
        "            # обучаю первое дерево на обучающей выборке\n",
        "            tree.fit(X_train, y_train)\n",
        "            \n",
        "            train_errors.append(mean_squared_error(y_train, gb_predict(X_train, trees, eta)))\n",
        "            test_errors.append(mean_squared_error(y_test, gb_predict(X_test, trees, eta)))\n",
        "        else:\n",
        "            # получаю ответы на текущей композиции\n",
        "            target = gb_predict(X_train, trees, eta)\n",
        "            \n",
        "            # алгоритмы, начиная со второго, обучаю на сдвиг\n",
        "            tree.fit(X_train, residual(y_train, target))\n",
        "            \n",
        "            train_errors.append(mean_squared_error(y_train, gb_predict(X_train, trees, eta)))\n",
        "            test_errors.append(mean_squared_error(y_test, gb_predict(X_test, trees, eta)))\n",
        "\n",
        "        trees.append(tree)\n",
        "        \n",
        "    return trees, train_errors, test_errors"
      ]
    },
    {
      "cell_type": "markdown",
      "metadata": {
        "id": "0vkHFhhzbsiN"
      },
      "source": [
        "Теперь обучаю несколько моделей с разными параметрами и исследую их поведение (сначала шаг градиента): "
      ]
    },
    {
      "cell_type": "code",
      "execution_count": 8,
      "metadata": {
        "id": "2WvxluSlbsiO"
      },
      "outputs": [],
      "source": [
        "# Число деревьев в ансамбле\n",
        "n_trees = 20\n",
        "\n",
        "# Максимальная глубина деревьев\n",
        "max_depth = 3"
      ]
    },
    {
      "cell_type": "code",
      "execution_count": 9,
      "metadata": {
        "id": "tDeOjThjdsIG"
      },
      "outputs": [],
      "source": [
        "# Шаги\n",
        "eta1 = 0.09\n",
        "\n",
        "trees1, train_errors1, test_errors1 = gb_fit(n_trees, max_depth, X_train, X_test, y_train, y_test, eta1)\n",
        "\n",
        "eta2 = 0.075\n",
        "\n",
        "trees2, train_errors2, test_errors2 = gb_fit(n_trees, max_depth, X_train, X_test, y_train, y_test, eta2)\n",
        "\n",
        "eta3 = 0.065\n",
        "\n",
        "trees3, train_errors3, test_errors3 = gb_fit(n_trees, max_depth, X_train, X_test, y_train, y_test, eta3)"
      ]
    },
    {
      "cell_type": "code",
      "execution_count": 10,
      "metadata": {
        "id": "GDMFn3R-bsiR"
      },
      "outputs": [],
      "source": [
        "def evaluate_alg(X_train, X_test, y_train, y_test, trees, eta):\n",
        "    train_prediction = gb_predict(X_train, trees, eta)\n",
        "\n",
        "    print(f'Ошибка алгоритма из {n_trees} деревьев глубиной {max_depth} \\\n",
        "    с шагом {eta} на тренировочной выборке: {mean_squared_error(y_train, train_prediction)}')\n",
        "\n",
        "    test_prediction = gb_predict(X_test, trees, eta)\n",
        "\n",
        "    print(f'Ошибка алгоритма из {n_trees} деревьев глубиной {max_depth} \\\n",
        "    с шагом {eta} на тестовой выборке: {mean_squared_error(y_test, test_prediction)}')"
      ]
    },
    {
      "cell_type": "code",
      "execution_count": 11,
      "metadata": {
        "colab": {
          "base_uri": "https://localhost:8080/"
        },
        "id": "WEBbjCynbsiV",
        "outputId": "dc148de9-6504-43f8-ce35-0a4dfc962b25"
      },
      "outputs": [
        {
          "output_type": "stream",
          "name": "stdout",
          "text": [
            "Ошибка алгоритма из 20 деревьев глубиной 3     с шагом 0.09 на тренировочной выборке: 2680.479373327966\n",
            "Ошибка алгоритма из 20 деревьев глубиной 3     с шагом 0.09 на тестовой выборке: 4092.745495834357\n"
          ]
        }
      ],
      "source": [
        "evaluate_alg(X_train, X_test, y_train, y_test, trees1, eta1)"
      ]
    },
    {
      "cell_type": "code",
      "execution_count": 12,
      "metadata": {
        "colab": {
          "base_uri": "https://localhost:8080/"
        },
        "outputId": "fc4a0764-2531-4449-82ab-a3f9cebd2647",
        "id": "m65omnxFdsIH"
      },
      "outputs": [
        {
          "output_type": "stream",
          "name": "stdout",
          "text": [
            "Ошибка алгоритма из 20 деревьев глубиной 3     с шагом 0.075 на тренировочной выборке: 3361.2391213146107\n",
            "Ошибка алгоритма из 20 деревьев глубиной 3     с шагом 0.075 на тестовой выборке: 4612.174162007562\n"
          ]
        }
      ],
      "source": [
        "evaluate_alg(X_train, X_test, y_train, y_test, trees2, eta2)"
      ]
    },
    {
      "cell_type": "code",
      "execution_count": 13,
      "metadata": {
        "colab": {
          "base_uri": "https://localhost:8080/"
        },
        "outputId": "2f527c0e-02c6-4142-da8f-19ebe37b56b9",
        "id": "zwNzazU8dsII"
      },
      "outputs": [
        {
          "output_type": "stream",
          "name": "stdout",
          "text": [
            "Ошибка алгоритма из 20 деревьев глубиной 3     с шагом 0.065 на тренировочной выборке: 4085.997539205226\n",
            "Ошибка алгоритма из 20 деревьев глубиной 3     с шагом 0.065 на тестовой выборке: 5163.496848675279\n"
          ]
        }
      ],
      "source": [
        "evaluate_alg(X_train, X_test, y_train, y_test, trees3, eta3)"
      ]
    },
    {
      "cell_type": "markdown",
      "metadata": {
        "id": "TluGn7Iubsib"
      },
      "source": [
        "Построю график зависимости ошибки на обучающей и тестовой выборках от числа итераций при разных значениях шага градиента: "
      ]
    },
    {
      "cell_type": "code",
      "execution_count": 14,
      "metadata": {
        "id": "gjDdKkgObsif",
        "colab": {
          "base_uri": "https://localhost:8080/",
          "height": 279
        },
        "outputId": "886728cb-5b55-481d-9596-5e28cb14ea79"
      },
      "outputs": [
        {
          "output_type": "display_data",
          "data": {
            "text/plain": [
              "<Figure size 432x288 with 1 Axes>"
            ],
            "image/png": "[encoded data removed]"
          },
          "metadata": {
            "needs_background": "light"
          }
        }
      ],
      "source": [
        "plt.xlabel('Iteration number')\n",
        "plt.ylabel('MSE')\n",
        "plt.xlim(0, n_trees)\n",
        "plt.plot(list(range(n_trees)), train_errors1, label=f'train error, eta={eta1}')\n",
        "plt.plot(list(range(n_trees)), test_errors1, label=f'test error, eta={eta1}')\n",
        "plt.plot(list(range(n_trees)), train_errors2, label=f'train error, eta={eta2}')\n",
        "plt.plot(list(range(n_trees)), test_errors2, label=f'test error, eta={eta2}')\n",
        "plt.plot(list(range(n_trees)), train_errors3, label=f'train error, eta={eta3}')\n",
        "plt.plot(list(range(n_trees)), test_errors3, label=f'test error, eta={eta3}')\n",
        "plt.legend(loc='upper right')\n",
        "plt.show()"
      ]
    },
    {
      "cell_type": "markdown",
      "metadata": {
        "id": "WtPx9fVrdsIJ"
      },
      "source": [
        "Из графика видно, что при разных значениях шага градиента (eta) скорость уменьшения ошибки (MSE) разная. \n",
        "\n",
        "Так, при eta=0.09 ошибка на тестовой выборке минимальна. Но в правой части можно заметить начало переобучения модели. "
      ]
    },
    {
      "cell_type": "markdown",
      "metadata": {
        "id": "FzrC1srSdsIJ"
      },
      "source": [
        "Теперь обучаю несколько моделей с разными параметрами и исследую их поведение (теперь глубина деревьев): "
      ]
    },
    {
      "cell_type": "code",
      "execution_count": 15,
      "metadata": {
        "id": "4zxwHU4-dsIJ"
      },
      "outputs": [],
      "source": [
        "# Число деревьев в ансамбле\n",
        "n_trees = 20\n",
        "\n",
        "# Шаг\n",
        "eta = 0.09"
      ]
    },
    {
      "cell_type": "code",
      "execution_count": 16,
      "metadata": {
        "colab": {
          "base_uri": "https://localhost:8080/"
        },
        "id": "ZZwhJGgedsIJ",
        "outputId": "3ef5d900-9b35-4fc1-a851-79418d0bde3f"
      },
      "outputs": [
        {
          "output_type": "stream",
          "name": "stdout",
          "text": [
            "Ошибка алгоритма из 20 деревьев глубиной 1     с шагом 0.09 на тренировочной выборке: 3773.9185534991834\n",
            "Ошибка алгоритма из 20 деревьев глубиной 1     с шагом 0.09 на тестовой выборке: 4379.376147285174\n"
          ]
        }
      ],
      "source": [
        "max_depth = 1\n",
        "\n",
        "trees1, train_errors1, test_errors1 = gb_fit(n_trees, max_depth, X_train, X_test, y_train, y_test, eta)\n",
        "\n",
        "evaluate_alg(X_train, X_test, y_train, y_test, trees1, eta)"
      ]
    },
    {
      "cell_type": "code",
      "execution_count": 17,
      "metadata": {
        "colab": {
          "base_uri": "https://localhost:8080/"
        },
        "id": "5euBpQAjdsIJ",
        "outputId": "30ccc8a2-b0c3-4ac4-a4d9-70ae84464814"
      },
      "outputs": [
        {
          "output_type": "stream",
          "name": "stdout",
          "text": [
            "Ошибка алгоритма из 20 деревьев глубиной 2     с шагом 0.09 на тренировочной выборке: 3198.9463277035775\n",
            "Ошибка алгоритма из 20 деревьев глубиной 2     с шагом 0.09 на тестовой выборке: 4170.113249491465\n"
          ]
        }
      ],
      "source": [
        "max_depth = 2\n",
        "\n",
        "trees2, train_errors2, test_errors2 = gb_fit(n_trees, max_depth, X_train, X_test, y_train, y_test, eta)\n",
        "\n",
        "evaluate_alg(X_train, X_test, y_train, y_test, trees2, eta)"
      ]
    },
    {
      "cell_type": "code",
      "execution_count": 18,
      "metadata": {
        "colab": {
          "base_uri": "https://localhost:8080/"
        },
        "id": "xrS67bS7dsIK",
        "outputId": "a508ee6f-add2-4890-e25e-a28494a074ca"
      },
      "outputs": [
        {
          "output_type": "stream",
          "name": "stdout",
          "text": [
            "Ошибка алгоритма из 20 деревьев глубиной 5     с шагом 0.09 на тренировочной выборке: 1574.5398517866952\n",
            "Ошибка алгоритма из 20 деревьев глубиной 5     с шагом 0.09 на тестовой выборке: 4438.772117761845\n"
          ]
        }
      ],
      "source": [
        "max_depth = 5\n",
        "\n",
        "trees3, train_errors3, test_errors3 = gb_fit(n_trees, max_depth, X_train, X_test, y_train, y_test, eta)\n",
        "\n",
        "evaluate_alg(X_train, X_test, y_train, y_test, trees3, eta)"
      ]
    },
    {
      "cell_type": "markdown",
      "metadata": {
        "id": "UdUivS78dsIK"
      },
      "source": [
        "Построю график зависимости ошибки на обучающей и тестовой выборках от числа итераций при разных значениях глубины деревьев: "
      ]
    },
    {
      "cell_type": "code",
      "execution_count": 19,
      "metadata": {
        "scrolled": true,
        "colab": {
          "base_uri": "https://localhost:8080/",
          "height": 279
        },
        "id": "lJBK8SdGdsIK",
        "outputId": "c172f143-a7a9-44e5-8fdf-63106f56f8fc"
      },
      "outputs": [
        {
          "output_type": "display_data",
          "data": {
            "text/plain": [
              "<Figure size 432x288 with 1 Axes>"
            ],
            "image/png": "[encoded data removed]"
          },
          "metadata": {
            "needs_background": "light"
          }
        }
      ],
      "source": [
        "plt.xlabel('Iteration number')\n",
        "plt.ylabel('MSE')\n",
        "plt.xlim(0, n_trees)\n",
        "plt.plot(list(range(n_trees)), train_errors1, label=f'train error, max_depth=1')\n",
        "plt.plot(list(range(n_trees)), test_errors1, label=f'test error, max_depth=1')\n",
        "plt.plot(list(range(n_trees)), train_errors2, label=f'train error, max_depth=2')\n",
        "plt.plot(list(range(n_trees)), test_errors2, label=f'test error, max_depth=2')\n",
        "plt.plot(list(range(n_trees)), train_errors3, label=f'train error, max_depth=5')\n",
        "plt.plot(list(range(n_trees)), test_errors3, label=f'test error, max_depth=5')\n",
        "plt.legend(loc='upper right')\n",
        "plt.show()"
      ]
    },
    {
      "cell_type": "markdown",
      "metadata": {
        "id": "E42mLvuSdsIK"
      },
      "source": [
        "Из графика видно, что при разных значениях максимальной глубины деревьев (max_depth) скорость уменьшения ошибки (MSE) разная. \n",
        "\n",
        "Так, при max_depth=2 ошибка на тестовой выборке минимальна. Но в правой части можно заметить начало переобучения модели. "
      ]
    },
    {
      "cell_type": "markdown",
      "metadata": {
        "id": "gjcLXlvZbsjI"
      },
      "source": [
        "В целом становится понятным, что варьируя параметры обучения градиентного бустинга, можно добиваться различного уровня точности и качества модели.\n",
        "\n",
        "В данном случае оптимальными гиперпараметрами стали eta=0.09 и max_depth=2."
      ]
    }
  ],
  "metadata": {
    "colab": {
      "provenance": [],
      "include_colab_link": true
    },
    "kernelspec": {
      "display_name": "Python 3 (ipykernel)",
      "language": "python",
      "name": "python3"
    },
    "language_info": {
      "codemirror_mode": {
        "name": "ipython",
        "version": 3
      },
      "file_extension": ".py",
      "mimetype": "text/x-python",
      "name": "python",
      "nbconvert_exporter": "python",
      "pygments_lexer": "ipython3",
      "version": "3.9.13"
    }
  },
  "nbformat": 4,
  "nbformat_minor": 0
}