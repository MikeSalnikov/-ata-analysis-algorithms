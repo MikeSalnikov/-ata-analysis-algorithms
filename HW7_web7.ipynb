{
  "cells": [
    {
      "cell_type": "markdown",
      "metadata": {
        "id": "view-in-github",
        "colab_type": "text"
      },
      "source": [
        "<a href=\"https://colab.research.google.com/github/MikeSalnikov/Data-analysis-algorithms/blob/main/HW7_web7.ipynb\" target=\"_parent\"><img src=\"https://colab.research.google.com/assets/colab-badge.svg\" alt=\"Open In Colab\"/></a>"
      ]
    },
    {
      "cell_type": "markdown",
      "metadata": {
        "id": "pkNPdXJtuf9t"
      },
      "source": [
        "# Домашнее задание № 7"
      ]
    },
    {
      "cell_type": "markdown",
      "metadata": {
        "id": "o4tynvENfhoN"
      },
      "source": [
        "К алгоритму kNN, представленному на уроке, реализуйте добавление весов для соседей по любому из показанных на уроке принципов. Сравните точность нового алгоритма с исходным при разных значениях k."
      ]
    },
    {
      "cell_type": "code",
      "execution_count": 1,
      "metadata": {
        "id": "ChmkZ71kuf9-"
      },
      "outputs": [],
      "source": [
        "import numpy as np\n",
        "from sklearn.model_selection import train_test_split\n",
        "from sklearn.datasets import load_iris"
      ]
    },
    {
      "cell_type": "markdown",
      "metadata": {
        "id": "V5FaldH6uf-B"
      },
      "source": [
        "Загружаю один из \"игрушечных\" датасетов из sklearn (классификация цветов Ириса):"
      ]
    },
    {
      "cell_type": "code",
      "execution_count": 2,
      "metadata": {
        "id": "_49Y22E9uf-C"
      },
      "outputs": [],
      "source": [
        "X, y = load_iris(return_X_y=True)\n",
        "\n",
        "# для наглядности беоу только первые два признака (всего в датасете их 4)\n",
        "X = X[:, :2]"
      ]
    },
    {
      "cell_type": "markdown",
      "metadata": {
        "id": "ZpwmydFPuf-F"
      },
      "source": [
        "Разделяю выборку на обучающую и тестовую: "
      ]
    },
    {
      "cell_type": "code",
      "execution_count": 3,
      "metadata": {
        "id": "ACYClLghuf-F",
        "outputId": "45f7c3e3-2c7c-445e-f355-448fd4e73a6b",
        "colab": {
          "base_uri": "https://localhost:8080/"
        }
      },
      "outputs": [
        {
          "output_type": "execute_result",
          "data": {
            "text/plain": [
              "((120, 2), (30, 2))"
            ]
          },
          "metadata": {},
          "execution_count": 3
        }
      ],
      "source": [
        "X_train, X_test, y_train, y_test = train_test_split(X, y,\n",
        "                                                    test_size=0.2,\n",
        "                                                    random_state=1,\n",
        "                                                    stratify=y)\n",
        "X_train.shape, X_test.shape"
      ]
    },
    {
      "cell_type": "markdown",
      "metadata": {
        "id": "59xP1kfUuf-O"
      },
      "source": [
        "Использую евклидову метрику. Реализую функцию для ее подсчета: "
      ]
    },
    {
      "cell_type": "code",
      "execution_count": 4,
      "metadata": {
        "id": "MKipIKeGuf-P"
      },
      "outputs": [],
      "source": [
        "def e_metrics(x1, x2):\n",
        "    \n",
        "    distance = np.sum(np.square(x1 - x2))\n",
        "\n",
        "    return np.sqrt(distance)"
      ]
    },
    {
      "cell_type": "markdown",
      "metadata": {
        "id": "1tvFJ8-ouf-T"
      },
      "source": [
        "Реализую алгоритм поиска k ближайших соседей: "
      ]
    },
    {
      "cell_type": "code",
      "execution_count": 5,
      "metadata": {
        "id": "LIKuDr9huf-V"
      },
      "outputs": [],
      "source": [
        "def knn(x_train, y_train, x_test, k):\n",
        "    \n",
        "    answers = []\n",
        "    for x in x_test:\n",
        "        test_distances = []\n",
        "            \n",
        "        for i in range(len(x_train)):\n",
        "            \n",
        "            # расчет расстояния от классифицируемого объекта до\n",
        "            # объекта обучающей выборки\n",
        "            distance = e_metrics(x, x_train[i])\n",
        "            \n",
        "            # записываю в список значение расстояния и ответа на объекте обучающей выборки\n",
        "            test_distances.append((distance, y_train[i]))\n",
        "        \n",
        "        # создаю словарь со всеми возможными классами\n",
        "        classes = {class_item: 0 for class_item in set(y_train)}\n",
        "        \n",
        "        # сортирую список и среди первых k элементов подсчитываю частоту появления разных классов\n",
        "        for d in sorted(test_distances)[0:k]:\n",
        "            classes[d[1]] += 1\n",
        "\n",
        "        # записываю в список ответов наиболее часто встречающийся класс\n",
        "        answers.append(sorted(classes, key=classes.get)[-1])\n",
        "        \n",
        "    return answers"
      ]
    },
    {
      "cell_type": "markdown",
      "metadata": {
        "id": "7DVrbUPyuf-X"
      },
      "source": [
        "Напишу функцию для вычисления точности: "
      ]
    },
    {
      "cell_type": "code",
      "execution_count": 6,
      "metadata": {
        "id": "eK2Bn_7ouf-Y"
      },
      "outputs": [],
      "source": [
        "def accuracy(pred, y):\n",
        "    return (sum(pred == y) / len(y))"
      ]
    },
    {
      "cell_type": "markdown",
      "metadata": {
        "id": "SprqYVBQuf-a"
      },
      "source": [
        "Проверяю работу алгоритма при различных k: "
      ]
    },
    {
      "cell_type": "code",
      "execution_count": 7,
      "metadata": {
        "id": "cklGO9Rnfhop"
      },
      "outputs": [],
      "source": [
        "k = [1, 2, 3, 5, 10, 50]\n",
        "\n",
        "result1 = {}\n",
        "\n",
        "for el in k:\n",
        "    y_pred = knn(X_train, y_train, X_test, el)\n",
        "    result1[el] = round(accuracy(y_pred, y_test), 3)"
      ]
    },
    {
      "cell_type": "markdown",
      "metadata": {
        "id": "qARCurHsfhop"
      },
      "source": [
        "Выведу значения точности при разных k: "
      ]
    },
    {
      "cell_type": "code",
      "execution_count": 8,
      "metadata": {
        "id": "47PO2FvDfhoq",
        "outputId": "275c70d9-3a6b-4aad-a3ce-c37a751f6157",
        "colab": {
          "base_uri": "https://localhost:8080/"
        }
      },
      "outputs": [
        {
          "output_type": "execute_result",
          "data": {
            "text/plain": [
              "{1: 0.7, 2: 0.733, 3: 0.733, 5: 0.733, 10: 0.767, 50: 0.7}"
            ]
          },
          "metadata": {},
          "execution_count": 8
        }
      ],
      "source": [
        "result1"
      ]
    },
    {
      "cell_type": "markdown",
      "metadata": {
        "id": "PUDzRIGdfhoq"
      },
      "source": [
        "Реализую алгоритм поиска k ближайших соседей с добавлением весов по формуле: "
      ]
    },
    {
      "cell_type": "markdown",
      "metadata": {
        "id": "MBcf6OKffhor"
      },
      "source": [
        "### $w(d) = \\frac{1}{d+a}$"
      ]
    },
    {
      "cell_type": "code",
      "execution_count": 9,
      "metadata": {
        "id": "4zS9ZfpVfhor"
      },
      "outputs": [],
      "source": [
        "def knn(x_train, y_train, x_test, k):\n",
        "    \n",
        "    answers = []\n",
        "    for x in x_test:\n",
        "        test_distances = []\n",
        "            \n",
        "        for i in range(len(x_train)):\n",
        "            \n",
        "            # расчет расстояния от классифицируемого объекта до\n",
        "            # объекта обучающей выборки\n",
        "            distance = e_metrics(x, x_train[i])\n",
        "            \n",
        "            # записываю в список значение расстояния и ответа на объекте обучающей выборки\n",
        "            test_distances.append((distance, y_train[i]))\n",
        "        \n",
        "        # создаю словарь со всеми возможными классами\n",
        "        classes = {class_item: 0 for class_item in set(y_train)}\n",
        "        \n",
        "        # сортирую список и среди первых k элементов посчитываю сумму весов классов ближайших соседей\n",
        "        a = 1        \n",
        "        for d in sorted(test_distances)[0:k]:\n",
        "            classes[d[1]] += 1 / (d[0] + a) # вместо инкремента прибавляю вес признака в словарь по ближайшим соседям по вышеуказанной формуле\n",
        "\n",
        "        # записываю в список ответов наиболее часто встречающийся класс\n",
        "        answers.append(sorted(classes, key=classes.get)[-1])\n",
        "        \n",
        "    return answers"
      ]
    },
    {
      "cell_type": "code",
      "execution_count": 10,
      "metadata": {
        "id": "9O0IxRy-fhos"
      },
      "outputs": [],
      "source": [
        "k = [1, 2, 3, 5, 10, 50]\n",
        "\n",
        "result2 = {}\n",
        "\n",
        "for el in k:\n",
        "    y_pred = knn(X_train, y_train, X_test, el)\n",
        "    result2[el] = round(accuracy(y_pred, y_test), 3)"
      ]
    },
    {
      "cell_type": "markdown",
      "metadata": {
        "id": "TqNtgMtRfhos"
      },
      "source": [
        "Выведу новые значения точности при разных k: "
      ]
    },
    {
      "cell_type": "code",
      "execution_count": 11,
      "metadata": {
        "scrolled": true,
        "id": "H1tqIbuyfhos",
        "outputId": "f3f0a96c-a43f-4e23-d1de-e18b28072650",
        "colab": {
          "base_uri": "https://localhost:8080/"
        }
      },
      "outputs": [
        {
          "output_type": "execute_result",
          "data": {
            "text/plain": [
              "{1: 0.7, 2: 0.7, 3: 0.733, 5: 0.733, 10: 0.733, 50: 0.7}"
            ]
          },
          "metadata": {},
          "execution_count": 11
        }
      ],
      "source": [
        "result2"
      ]
    },
    {
      "cell_type": "markdown",
      "metadata": {
        "id": "fR92p1Nnfhou"
      },
      "source": [
        "Реализую алгоритм поиска k ближайших соседей с добавлением весов по формуле: "
      ]
    },
    {
      "cell_type": "markdown",
      "metadata": {
        "id": "7yNTpHJGfhou"
      },
      "source": [
        "### $w(d) = q^{d}$,   $q \\in (0,1)$"
      ]
    },
    {
      "cell_type": "code",
      "execution_count": 12,
      "metadata": {
        "id": "zqKQl-KYfhou"
      },
      "outputs": [],
      "source": [
        "def knn(x_train, y_train, x_test, k, q):  # добавлен аргумент q, устанавливаемый при запуске функции вручную\n",
        "    \n",
        "    answers = []\n",
        "    for x in x_test:\n",
        "        test_distances = []\n",
        "            \n",
        "        for i in range(len(x_train)):\n",
        "            \n",
        "            # расчет расстояния от классифицируемого объекта до\n",
        "            # объекта обучающей выборки\n",
        "            distance = e_metrics(x, x_train[i])\n",
        "            \n",
        "            # Записываем в список значение расстояния и ответа на объекте обучающей выборки\n",
        "            test_distances.append((distance, y_train[i]))\n",
        "        \n",
        "        # создаем словарь со всеми возможными классами\n",
        "        classes= {class_item: 0 for class_item in set(y_train)}\n",
        "\n",
        "        # сортирую список и среди первых k элементов посчитываю сумму весов классов ближайших соседей\n",
        "        for d in sorted(test_distances)[0:k]:\n",
        "            classes[d[1]] += q ** d[0]  # вместо инкремента прибавляю вес признака в словарь по ближайшим соседям по вышеуказанной формуле\n",
        "\n",
        "        # записываю в список ответов наиболее часто встречающийся класс\n",
        "        answers.append(sorted(classes, key=classes.get)[-1])\n",
        "        \n",
        "    return answers"
      ]
    },
    {
      "cell_type": "code",
      "execution_count": 13,
      "metadata": {
        "id": "o1t7TyIffhou"
      },
      "outputs": [],
      "source": [
        "k = [1, 2, 3, 5, 10, 50]\n",
        "\n",
        "result3 = {}\n",
        "\n",
        "for el in k:\n",
        "    y_pred = knn(X_train, y_train, X_test, el, q=0.1)\n",
        "    result3[el] = round(accuracy(y_pred, y_test), 3)"
      ]
    },
    {
      "cell_type": "markdown",
      "metadata": {
        "id": "kmBxt-xWfhou"
      },
      "source": [
        "Выведу новые значения точности при разных k: "
      ]
    },
    {
      "cell_type": "code",
      "execution_count": 14,
      "metadata": {
        "scrolled": true,
        "id": "McKv9_iKfhov",
        "outputId": "d2fa0e48-ab0e-418b-dc48-aab99328cc9a",
        "colab": {
          "base_uri": "https://localhost:8080/"
        }
      },
      "outputs": [
        {
          "output_type": "execute_result",
          "data": {
            "text/plain": [
              "{1: 0.7, 2: 0.7, 3: 0.733, 5: 0.733, 10: 0.733, 50: 0.733}"
            ]
          },
          "metadata": {},
          "execution_count": 14
        }
      ],
      "source": [
        "result3"
      ]
    },
    {
      "cell_type": "markdown",
      "metadata": {
        "id": "lWhrOvlbfhov"
      },
      "source": [
        "Сравниваю точность новых алгоритмов с исходным при разных значениях k: "
      ]
    },
    {
      "cell_type": "code",
      "execution_count": 15,
      "metadata": {
        "id": "ViPno16wfhov",
        "outputId": "0f75c7da-b078-4d81-d0c9-5bbb0489aad0",
        "colab": {
          "base_uri": "https://localhost:8080/"
        }
      },
      "outputs": [
        {
          "output_type": "execute_result",
          "data": {
            "text/plain": [
              "({1: 0.7, 2: 0.733, 3: 0.733, 5: 0.733, 10: 0.767, 50: 0.7},\n",
              " {1: 0.7, 2: 0.7, 3: 0.733, 5: 0.733, 10: 0.733, 50: 0.7},\n",
              " {1: 0.7, 2: 0.7, 3: 0.733, 5: 0.733, 10: 0.733, 50: 0.733})"
            ]
          },
          "metadata": {},
          "execution_count": 15
        }
      ],
      "source": [
        "result1, result2, result3"
      ]
    },
    {
      "cell_type": "code",
      "execution_count": 15,
      "metadata": {
        "id": "sRSqzmhRfhov"
      },
      "outputs": [],
      "source": []
    },
    {
      "cell_type": "markdown",
      "metadata": {
        "id": "QHVr1RTKuf-6"
      },
      "source": [
        "При увеличении k наблюдается сначала рост точности, затем её стабилизация, затем падение (за исключением третьего алгоритма). \n",
        "\n",
        "Можно заметить, что именно первый алгоритм показывает наилучшие результаты. "
      ]
    }
  ],
  "metadata": {
    "colab": {
      "provenance": [],
      "include_colab_link": true
    },
    "kernelspec": {
      "display_name": "Python 3 (ipykernel)",
      "language": "python",
      "name": "python3"
    },
    "language_info": {
      "codemirror_mode": {
        "name": "ipython",
        "version": 3
      },
      "file_extension": ".py",
      "mimetype": "text/x-python",
      "name": "python",
      "nbconvert_exporter": "python",
      "pygments_lexer": "ipython3",
      "version": "3.9.13"
    }
  },
  "nbformat": 4,
  "nbformat_minor": 0
}